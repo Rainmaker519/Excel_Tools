{
 "cells": [
  {
   "cell_type": "markdown",
   "id": "bc34d87c",
   "metadata": {},
   "source": [
    "# Tool Development Notebook"
   ]
  },
  {
   "cell_type": "code",
   "execution_count": 25,
   "id": "26a20e6b",
   "metadata": {},
   "outputs": [],
   "source": [
    "import xlsxwriter as xl\n",
    "\n",
    "import pandas as pd\n",
    "\n",
    "import xlrd"
   ]
  },
  {
   "cell_type": "code",
   "execution_count": 20,
   "id": "3122f6f4",
   "metadata": {},
   "outputs": [],
   "source": [
    "file_loc = '/Users/charlie//Documents/personal_tools/Excel_Tools/excel_files/test_cells.xlsx'\n",
    "workbook = xl.Workbook(file_loc)"
   ]
  },
  {
   "cell_type": "code",
   "execution_count": 21,
   "id": "3b60a6ef",
   "metadata": {},
   "outputs": [
    {
     "data": {
      "text/plain": [
       "[<xlsxwriter.worksheet.Worksheet at 0x7f8bb153f0d0>]"
      ]
     },
     "execution_count": 21,
     "metadata": {},
     "output_type": "execute_result"
    }
   ],
   "source": [
    "worksheet = workbook.add_worksheet()\n",
    "#worksheet = \n",
    "workbook.worksheets()"
   ]
  },
  {
   "cell_type": "code",
   "execution_count": 22,
   "id": "2312eae8",
   "metadata": {},
   "outputs": [],
   "source": [
    "to_write_list = [9,22,43,2,23,14,44,14,2,2223,1]"
   ]
  },
  {
   "cell_type": "code",
   "execution_count": 23,
   "id": "0f2aa4f6",
   "metadata": {},
   "outputs": [],
   "source": [
    "for row_num,data in enumerate(to_write_list):\n",
    "    worksheet.write(row_num,row_num,data)"
   ]
  },
  {
   "cell_type": "code",
   "execution_count": 24,
   "id": "89df4d96",
   "metadata": {},
   "outputs": [],
   "source": [
    "workbook.close()"
   ]
  },
  {
   "cell_type": "markdown",
   "id": "323937e3",
   "metadata": {},
   "source": [
    "## Write row/column right/down from some starting index"
   ]
  },
  {
   "cell_type": "markdown",
   "id": "f9e5d581",
   "metadata": {},
   "source": [
    "## Write dataframe into excel file, give x,y for upper left corner, and specify if should include column names and such too"
   ]
  },
  {
   "cell_type": "code",
   "execution_count": 26,
   "id": "fbc6a451",
   "metadata": {},
   "outputs": [],
   "source": [
    "def writeFrame(dataframe,file_location,sheet_name=\"Main\",safe=True,offset=[0,0]):\n",
    "    #safe means checking that the excel file is empty before\n",
    "    # writing over whatever content it has.\n",
    "    try:\n",
    "        if safe:\n",
    "            safe_check_frame = pd.read_excel('/Users/charlie//Documents/personal_tools/Excel_Tools/excel_files/test_cells.xlsx')\n",
    "            if not safe_check_frame.empty:\n",
    "                print(\"Excel file not empty! If you still want to overwrite it, run this function with safe mode off!\")\n",
    "                return\n",
    "\n",
    "        # Create a Pandas Excel writer using XlsxWriter as the engine.\n",
    "        writer = pd.ExcelWriter(file_location, engine='xlsxwriter')\n",
    "\n",
    "        # Convert the dataframe to an XlsxWriter Excel object.\n",
    "        df.to_excel(writer, sheet_name=sheet_name,startcol=offset[1],\n",
    "                       startrow=offset[0])\n",
    "\n",
    "        # Close the Pandas Excel writer and output the Excel file.\n",
    "        writer.save()\n",
    "        \n",
    "        return True\n",
    "    \n",
    "    except:\n",
    "        \n",
    "        return False"
   ]
  },
  {
   "cell_type": "markdown",
   "id": "472dfd73",
   "metadata": {},
   "source": [
    "## Add characters to start/end of cells in a specific area of cells"
   ]
  },
  {
   "cell_type": "markdown",
   "id": "9f75fdb2",
   "metadata": {},
   "source": [
    "## Find and replace string slices in all the cells in a specific area"
   ]
  },
  {
   "cell_type": "markdown",
   "id": "41661218",
   "metadata": {},
   "source": [
    "## Replace all cells matching a condition with a value thats a function of the original"
   ]
  },
  {
   "cell_type": "markdown",
   "id": "4d66d30f",
   "metadata": {},
   "source": [
    "### i.e. replace all cells with values under 5 using timesTwo(), or using setToZero()"
   ]
  },
  {
   "cell_type": "code",
   "execution_count": null,
   "id": "10431aba",
   "metadata": {},
   "outputs": [],
   "source": []
  }
 ],
 "metadata": {
  "kernelspec": {
   "display_name": "Python 3 (ipykernel)",
   "language": "python",
   "name": "python3"
  },
  "language_info": {
   "codemirror_mode": {
    "name": "ipython",
    "version": 3
   },
   "file_extension": ".py",
   "mimetype": "text/x-python",
   "name": "python",
   "nbconvert_exporter": "python",
   "pygments_lexer": "ipython3",
   "version": "3.9.12"
  }
 },
 "nbformat": 4,
 "nbformat_minor": 5
}
